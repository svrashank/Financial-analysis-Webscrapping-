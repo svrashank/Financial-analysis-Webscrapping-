{
 "cells": [
  {
   "cell_type": "markdown",
   "id": "468f1ec2",
   "metadata": {},
   "source": [
    "# Financial Analysis of Top 30 Companies in Nifty 50 "
   ]
  },
  {
   "cell_type": "markdown",
   "id": "9241fbff",
   "metadata": {},
   "source": [
    "The Following dataset was obtained through scrapping Yahoo finance website. The Article **'5 Must-Have Metrics for Value Investors'** on Investopedia.com ,states, P/E ratio , P/B ratio, D/E ratio, PEG, FCF as the 5 main metrics for evaluating the performance of a stock of that company. We try to obtain the 5 metrics from the srapped data and **build a model to predict the stock price** "
   ]
  },
  {
   "cell_type": "markdown",
   "id": "11736209",
   "metadata": {},
   "source": [
    "### 1 : Obtaining the data(Webscraping)  "
   ]
  },
  {
   "cell_type": "markdown",
   "id": "31b23741",
   "metadata": {},
   "source": [
    "* Refer to the python file 'webscrapper.py' to see the code for scrapping the website Yahoo finance. \n",
    "* BeautifulSoup library was used to scrape Yahoo Finance website \n",
    "* Symbols from the content page of Nifty 50 \n",
    "* The Url for the statistics page was formatted and iterated to generate url of all statistics page of Companies \n",
    "* All the necessary variables were grabbed through find ,find_all and CSS selector \n",
    "* The information was stored in lists and these lists were sent to a csv file as columns "
   ]
  },
  {
   "cell_type": "markdown",
   "id": "83a130be",
   "metadata": {},
   "source": [
    "### 2 : Data Cleaning ### "
   ]
  },
  {
   "cell_type": "markdown",
   "id": "a075d9f9",
   "metadata": {},
   "source": [
    "There are missing values in the DataFrame. If the column of missing values consist of the major 5 metrics mentioned above article, then we will find that information on other website and impute them and if more than 2 values are missing for a company we will drop that company "
   ]
  },
  {
   "cell_type": "code",
   "execution_count": 1,
   "id": "2d6e34af",
   "metadata": {},
   "outputs": [],
   "source": [
    "import pandas as pd\n",
    "import numpy as np \n",
    "from matplotlib import pyplot as plt \n",
    "import seaborn as sns"
   ]
  },
  {
   "cell_type": "code",
   "execution_count": 2,
   "id": "dd23d6ba",
   "metadata": {},
   "outputs": [
    {
     "data": {
      "text/html": [
       "<div>\n",
       "<style scoped>\n",
       "    .dataframe tbody tr th:only-of-type {\n",
       "        vertical-align: middle;\n",
       "    }\n",
       "\n",
       "    .dataframe tbody tr th {\n",
       "        vertical-align: top;\n",
       "    }\n",
       "\n",
       "    .dataframe thead th {\n",
       "        text-align: right;\n",
       "    }\n",
       "</style>\n",
       "<table border=\"1\" class=\"dataframe\">\n",
       "  <thead>\n",
       "    <tr style=\"text-align: right;\">\n",
       "      <th></th>\n",
       "      <th>Unnamed: 0</th>\n",
       "      <th>Symbol</th>\n",
       "      <th>Company_name</th>\n",
       "      <th>Stock_price</th>\n",
       "      <th>Market_cap</th>\n",
       "      <th>Trailing_PE</th>\n",
       "      <th>Forward_PE</th>\n",
       "      <th>Price_sales_ratio</th>\n",
       "      <th>Price_book_ratio</th>\n",
       "      <th>BVPS</th>\n",
       "      <th>Profits</th>\n",
       "      <th>Quarterly_Earnings_Growth</th>\n",
       "      <th>D_E_ratio</th>\n",
       "      <th>outstanding_shares</th>\n",
       "    </tr>\n",
       "  </thead>\n",
       "  <tbody>\n",
       "    <tr>\n",
       "      <th>0</th>\n",
       "      <td>0</td>\n",
       "      <td>TCS.NS</td>\n",
       "      <td>Tata Consultancy Services Limited</td>\n",
       "      <td>3,219.40</td>\n",
       "      <td>11.86T</td>\n",
       "      <td>28.14</td>\n",
       "      <td>24.57</td>\n",
       "      <td>5.26</td>\n",
       "      <td>13.12</td>\n",
       "      <td>247.06</td>\n",
       "      <td>18.69%</td>\n",
       "      <td>14.80%</td>\n",
       "      <td>8.43</td>\n",
       "      <td>3.66B</td>\n",
       "    </tr>\n",
       "    <tr>\n",
       "      <th>1</th>\n",
       "      <td>1</td>\n",
       "      <td>NESTLEIND.NS</td>\n",
       "      <td>Nestlé India Limited</td>\n",
       "      <td>21,745.85</td>\n",
       "      <td>1.99T</td>\n",
       "      <td>78.55</td>\n",
       "      <td>NaN</td>\n",
       "      <td>11.30</td>\n",
       "      <td>81.02</td>\n",
       "      <td>255.06</td>\n",
       "      <td>14.34%</td>\n",
       "      <td>23.90%</td>\n",
       "      <td>11.12</td>\n",
       "      <td>96.42M</td>\n",
       "    </tr>\n",
       "    <tr>\n",
       "      <th>2</th>\n",
       "      <td>2</td>\n",
       "      <td>INDUSINDBK.NS</td>\n",
       "      <td>IndusInd Bank Limited</td>\n",
       "      <td>1,150.90</td>\n",
       "      <td>855.04B</td>\n",
       "      <td>11.49</td>\n",
       "      <td>9.42</td>\n",
       "      <td>3.32</td>\n",
       "      <td>1.55</td>\n",
       "      <td>709.01</td>\n",
       "      <td>34.98%</td>\n",
       "      <td>45.90%</td>\n",
       "      <td>NaN</td>\n",
       "      <td>775.89M</td>\n",
       "    </tr>\n",
       "    <tr>\n",
       "      <th>3</th>\n",
       "      <td>3</td>\n",
       "      <td>ITC.NS</td>\n",
       "      <td>ITC Limited</td>\n",
       "      <td>424.45</td>\n",
       "      <td>4.89T</td>\n",
       "      <td>26.75</td>\n",
       "      <td>23.98</td>\n",
       "      <td>7.04</td>\n",
       "      <td>7.45</td>\n",
       "      <td>52.98</td>\n",
       "      <td>26.07%</td>\n",
       "      <td>23.40%</td>\n",
       "      <td>0.38</td>\n",
       "      <td>12.43B</td>\n",
       "    </tr>\n",
       "    <tr>\n",
       "      <th>4</th>\n",
       "      <td>4</td>\n",
       "      <td>ADANIENT.NS</td>\n",
       "      <td>Adani Enterprises Limited</td>\n",
       "      <td>1,919.85</td>\n",
       "      <td>2.11T</td>\n",
       "      <td>101.44</td>\n",
       "      <td>NaN</td>\n",
       "      <td>1.59</td>\n",
       "      <td>6.67</td>\n",
       "      <td>277.23</td>\n",
       "      <td>1.58%</td>\n",
       "      <td>NaN</td>\n",
       "      <td>113.86</td>\n",
       "      <td>1.14B</td>\n",
       "    </tr>\n",
       "  </tbody>\n",
       "</table>\n",
       "</div>"
      ],
      "text/plain": [
       "   Unnamed: 0         Symbol                        Company_name Stock_price  \\\n",
       "0           0         TCS.NS  Tata Consultancy Services Limited     3,219.40   \n",
       "1           1   NESTLEIND.NS               Nestlé India Limited    21,745.85   \n",
       "2           2  INDUSINDBK.NS              IndusInd Bank Limited     1,150.90   \n",
       "3           3         ITC.NS                        ITC Limited       424.45   \n",
       "4           4    ADANIENT.NS          Adani Enterprises Limited     1,919.85   \n",
       "\n",
       "  Market_cap  Trailing_PE  Forward_PE  Price_sales_ratio  Price_book_ratio  \\\n",
       "0     11.86T        28.14       24.57               5.26             13.12   \n",
       "1      1.99T        78.55         NaN              11.30             81.02   \n",
       "2    855.04B        11.49        9.42               3.32              1.55   \n",
       "3      4.89T        26.75       23.98               7.04              7.45   \n",
       "4      2.11T       101.44         NaN               1.59              6.67   \n",
       "\n",
       "     BVPS Profits Quarterly_Earnings_Growth  D_E_ratio outstanding_shares  \n",
       "0  247.06  18.69%                    14.80%       8.43              3.66B  \n",
       "1  255.06  14.34%                    23.90%      11.12             96.42M  \n",
       "2  709.01  34.98%                    45.90%        NaN            775.89M  \n",
       "3   52.98  26.07%                    23.40%       0.38             12.43B  \n",
       "4  277.23   1.58%                       NaN     113.86              1.14B  "
      ]
     },
     "execution_count": 2,
     "metadata": {},
     "output_type": "execute_result"
    }
   ],
   "source": [
    "df = pd.read_csv('Stock_analysis_df.csv')\n",
    "df.head()"
   ]
  },
  {
   "cell_type": "markdown",
   "id": "33f313c8",
   "metadata": {},
   "source": [
    "Some columns seem to have missing values. Let's see which columns have missing values and how much "
   ]
  },
  {
   "cell_type": "code",
   "execution_count": 3,
   "id": "6789429a",
   "metadata": {},
   "outputs": [
    {
     "name": "stdout",
     "output_type": "stream",
     "text": [
      "Forward_PE                   8\n",
      "BVPS                         1\n",
      "Profits                      1\n",
      "Quarterly_Earnings_Growth    3\n",
      "D_E_ratio                    5\n",
      "outstanding_shares           1\n",
      "dtype: int64\n"
     ]
    }
   ],
   "source": [
    "missing_val_count_by_column = (df.isnull().sum())\n",
    "print(missing_val_count_by_column[missing_val_count_by_column > 0])"
   ]
  },
  {
   "cell_type": "markdown",
   "id": "28731bb5",
   "metadata": {},
   "source": [
    "* Forward_PE has 8 missing values ,hence we can drop it.\n",
    "* D_E ratio is important hence imputing or finding a formula to calculate D_E is reasonable ,else I will impute it with 0. \n",
    "* Quaterly Earnings Growth, BVPS, outstanding shares and Profits have 3 or fewer missing values. Its easy enough to look for those values online on other sites  "
   ]
  },
  {
   "cell_type": "code",
   "execution_count": 4,
   "id": "45551c49",
   "metadata": {},
   "outputs": [],
   "source": [
    "df = df.drop('Forward_PE',axis=1)"
   ]
  },
  {
   "cell_type": "code",
   "execution_count": 5,
   "id": "23a8ba90",
   "metadata": {},
   "outputs": [],
   "source": [
    "df = df.drop('Unnamed: 0',axis=1)"
   ]
  },
  {
   "cell_type": "markdown",
   "id": "629b4c54",
   "metadata": {},
   "source": [
    "Find out which rows have missing values "
   ]
  },
  {
   "cell_type": "code",
   "execution_count": 6,
   "id": "d0e8a624",
   "metadata": {},
   "outputs": [
    {
     "data": {
      "text/plain": [
       "[11]"
      ]
     },
     "execution_count": 6,
     "metadata": {},
     "output_type": "execute_result"
    }
   ],
   "source": [
    "df[df['BVPS'].isnull()].index.tolist()"
   ]
  },
  {
   "cell_type": "code",
   "execution_count": 7,
   "id": "88799d4a",
   "metadata": {},
   "outputs": [
    {
     "data": {
      "text/plain": [
       "[11]"
      ]
     },
     "execution_count": 7,
     "metadata": {},
     "output_type": "execute_result"
    }
   ],
   "source": [
    "df[df['Profits'].isnull()].index.tolist()"
   ]
  },
  {
   "cell_type": "code",
   "execution_count": 8,
   "id": "4909e5f6",
   "metadata": {},
   "outputs": [
    {
     "data": {
      "text/plain": [
       "[11]"
      ]
     },
     "execution_count": 8,
     "metadata": {},
     "output_type": "execute_result"
    }
   ],
   "source": [
    "df[df['outstanding_shares'].isnull()].index.tolist()"
   ]
  },
  {
   "cell_type": "code",
   "execution_count": 9,
   "id": "e0c3968e",
   "metadata": {},
   "outputs": [
    {
     "data": {
      "text/plain": [
       "[4, 11, 22]"
      ]
     },
     "execution_count": 9,
     "metadata": {},
     "output_type": "execute_result"
    }
   ],
   "source": [
    "df[df['Quarterly_Earnings_Growth'].isnull()].index.tolist()"
   ]
  },
  {
   "cell_type": "code",
   "execution_count": 10,
   "id": "48ce3d6f",
   "metadata": {},
   "outputs": [
    {
     "data": {
      "text/plain": [
       "[2, 6, 11, 13, 19]"
      ]
     },
     "execution_count": 10,
     "metadata": {},
     "output_type": "execute_result"
    }
   ],
   "source": [
    "df[df['D_E_ratio'].isnull()].index.tolist()"
   ]
  },
  {
   "cell_type": "markdown",
   "id": "272441d5",
   "metadata": {},
   "source": [
    "Drop Row 11 which is Reliance Industries Limited since it has 3 out of 7 variables missing. This leaves Quaterly Earnings Growth for indices 4,22 which are 'Adani Enterprises Limited' and 'Tata Steel Limited' respectively and D_E_ratio for indices 2,6,13,19\n",
    "We can look for those values on a different website and fill in the missing values. "
   ]
  },
  {
   "cell_type": "code",
   "execution_count": 11,
   "id": "3f765ace",
   "metadata": {},
   "outputs": [],
   "source": [
    "df = df.drop(index=11,axis=0)"
   ]
  },
  {
   "cell_type": "markdown",
   "id": "09f7148d",
   "metadata": {},
   "source": [
    "According to **topstockresearch.com** the D/E ratios are -\n",
    "\n",
    "* IndusInd Bank Limited (2) = 0.89 \n",
    "* ICICI Bank Limited (6)= 0.881\n",
    "* Kotak Mahindra bank(13) = 0.568 \n",
    "* Bajaj Auto Limited(19)= 0\n"
   ]
  },
  {
   "cell_type": "code",
   "execution_count": 12,
   "id": "4baae765",
   "metadata": {},
   "outputs": [],
   "source": [
    "df.at[2,'D_E_ratio'] = 0.89 \n",
    "df.at[6,'D_E_ratio'] = 0.881 \n",
    "df.at[13,'D_E_ratio'] = 0.568 \n",
    "df.at[19,'D_E_ratio'] = 0\n"
   ]
  },
  {
   "cell_type": "markdown",
   "id": "ca9d04a5",
   "metadata": {},
   "source": [
    "I cannot clearly find the Quarterly Earnings Growth for Adani Enterprise and Tata Steel Limited. These two companies have all other variables . Hence, its better to drop Quarterly Earnings Growth column which is ratio of previous quarter's earnings to current quarter's earnings. "
   ]
  },
  {
   "cell_type": "code",
   "execution_count": 13,
   "id": "0b831ffd",
   "metadata": {},
   "outputs": [],
   "source": [
    "df = df.drop('Quarterly_Earnings_Growth',axis=1)"
   ]
  },
  {
   "cell_type": "code",
   "execution_count": 14,
   "id": "dcf2b65b",
   "metadata": {},
   "outputs": [
    {
     "data": {
      "text/plain": [
       "0"
      ]
     },
     "execution_count": 14,
     "metadata": {},
     "output_type": "execute_result"
    }
   ],
   "source": [
    "df.isnull().any().sum()"
   ]
  },
  {
   "cell_type": "code",
   "execution_count": 15,
   "id": "3f2bb134",
   "metadata": {},
   "outputs": [
    {
     "data": {
      "text/html": [
       "<div>\n",
       "<style scoped>\n",
       "    .dataframe tbody tr th:only-of-type {\n",
       "        vertical-align: middle;\n",
       "    }\n",
       "\n",
       "    .dataframe tbody tr th {\n",
       "        vertical-align: top;\n",
       "    }\n",
       "\n",
       "    .dataframe thead th {\n",
       "        text-align: right;\n",
       "    }\n",
       "</style>\n",
       "<table border=\"1\" class=\"dataframe\">\n",
       "  <thead>\n",
       "    <tr style=\"text-align: right;\">\n",
       "      <th></th>\n",
       "      <th>Symbol</th>\n",
       "      <th>Company_name</th>\n",
       "      <th>Stock_price</th>\n",
       "      <th>Market_cap</th>\n",
       "      <th>Trailing_PE</th>\n",
       "      <th>Price_sales_ratio</th>\n",
       "      <th>Price_book_ratio</th>\n",
       "      <th>BVPS</th>\n",
       "      <th>Profits</th>\n",
       "      <th>D_E_ratio</th>\n",
       "      <th>outstanding_shares</th>\n",
       "    </tr>\n",
       "  </thead>\n",
       "  <tbody>\n",
       "    <tr>\n",
       "      <th>0</th>\n",
       "      <td>TCS.NS</td>\n",
       "      <td>Tata Consultancy Services Limited</td>\n",
       "      <td>3,219.40</td>\n",
       "      <td>11.86T</td>\n",
       "      <td>28.14</td>\n",
       "      <td>5.26</td>\n",
       "      <td>13.12</td>\n",
       "      <td>247.06</td>\n",
       "      <td>18.69%</td>\n",
       "      <td>8.430</td>\n",
       "      <td>3.66B</td>\n",
       "    </tr>\n",
       "    <tr>\n",
       "      <th>1</th>\n",
       "      <td>NESTLEIND.NS</td>\n",
       "      <td>Nestlé India Limited</td>\n",
       "      <td>21,745.85</td>\n",
       "      <td>1.99T</td>\n",
       "      <td>78.55</td>\n",
       "      <td>11.30</td>\n",
       "      <td>81.02</td>\n",
       "      <td>255.06</td>\n",
       "      <td>14.34%</td>\n",
       "      <td>11.120</td>\n",
       "      <td>96.42M</td>\n",
       "    </tr>\n",
       "    <tr>\n",
       "      <th>2</th>\n",
       "      <td>INDUSINDBK.NS</td>\n",
       "      <td>IndusInd Bank Limited</td>\n",
       "      <td>1,150.90</td>\n",
       "      <td>855.04B</td>\n",
       "      <td>11.49</td>\n",
       "      <td>3.32</td>\n",
       "      <td>1.55</td>\n",
       "      <td>709.01</td>\n",
       "      <td>34.98%</td>\n",
       "      <td>0.890</td>\n",
       "      <td>775.89M</td>\n",
       "    </tr>\n",
       "    <tr>\n",
       "      <th>3</th>\n",
       "      <td>ITC.NS</td>\n",
       "      <td>ITC Limited</td>\n",
       "      <td>424.45</td>\n",
       "      <td>4.89T</td>\n",
       "      <td>26.75</td>\n",
       "      <td>7.04</td>\n",
       "      <td>7.45</td>\n",
       "      <td>52.98</td>\n",
       "      <td>26.07%</td>\n",
       "      <td>0.380</td>\n",
       "      <td>12.43B</td>\n",
       "    </tr>\n",
       "    <tr>\n",
       "      <th>4</th>\n",
       "      <td>ADANIENT.NS</td>\n",
       "      <td>Adani Enterprises Limited</td>\n",
       "      <td>1,919.85</td>\n",
       "      <td>2.11T</td>\n",
       "      <td>101.44</td>\n",
       "      <td>1.59</td>\n",
       "      <td>6.67</td>\n",
       "      <td>277.23</td>\n",
       "      <td>1.58%</td>\n",
       "      <td>113.860</td>\n",
       "      <td>1.14B</td>\n",
       "    </tr>\n",
       "    <tr>\n",
       "      <th>5</th>\n",
       "      <td>BAJAJFINSV.NS</td>\n",
       "      <td>Bajaj Finserv Ltd.</td>\n",
       "      <td>1,349.05</td>\n",
       "      <td>2.17T</td>\n",
       "      <td>35.47</td>\n",
       "      <td>2.72</td>\n",
       "      <td>5.01</td>\n",
       "      <td>291.20</td>\n",
       "      <td>7.96%</td>\n",
       "      <td>215.980</td>\n",
       "      <td>1.59B</td>\n",
       "    </tr>\n",
       "    <tr>\n",
       "      <th>6</th>\n",
       "      <td>ICICIBANK.NS</td>\n",
       "      <td>ICICI Bank Limited</td>\n",
       "      <td>922.10</td>\n",
       "      <td>6.38T</td>\n",
       "      <td>19.09</td>\n",
       "      <td>4.79</td>\n",
       "      <td>2.97</td>\n",
       "      <td>307.13</td>\n",
       "      <td>26.45%</td>\n",
       "      <td>0.881</td>\n",
       "      <td>6.98B</td>\n",
       "    </tr>\n",
       "    <tr>\n",
       "      <th>7</th>\n",
       "      <td>BAJFINANCE.NS</td>\n",
       "      <td>Bajaj Finance Limited</td>\n",
       "      <td>6,249.15</td>\n",
       "      <td>3.54T</td>\n",
       "      <td>33.02</td>\n",
       "      <td>14.09</td>\n",
       "      <td>7.38</td>\n",
       "      <td>899.66</td>\n",
       "      <td>44.85%</td>\n",
       "      <td>316.390</td>\n",
       "      <td>605.92M</td>\n",
       "    </tr>\n",
       "    <tr>\n",
       "      <th>8</th>\n",
       "      <td>APOLLOHOSP.NS</td>\n",
       "      <td>Apollo Hospitals Enterprise Limited</td>\n",
       "      <td>4,490.80</td>\n",
       "      <td>621.18B</td>\n",
       "      <td>73.98</td>\n",
       "      <td>4.11</td>\n",
       "      <td>10.37</td>\n",
       "      <td>416.88</td>\n",
       "      <td>4.82%</td>\n",
       "      <td>63.540</td>\n",
       "      <td>143.78M</td>\n",
       "    </tr>\n",
       "    <tr>\n",
       "      <th>9</th>\n",
       "      <td>TITAN.NS</td>\n",
       "      <td>Titan Company Limited</td>\n",
       "      <td>2,663.85</td>\n",
       "      <td>2.30T</td>\n",
       "      <td>75.82</td>\n",
       "      <td>6.16</td>\n",
       "      <td>22.47</td>\n",
       "      <td>115.18</td>\n",
       "      <td>7.97%</td>\n",
       "      <td>74.650</td>\n",
       "      <td>887.79M</td>\n",
       "    </tr>\n",
       "    <tr>\n",
       "      <th>10</th>\n",
       "      <td>LT.NS</td>\n",
       "      <td>Larsen &amp; Toubro Limited</td>\n",
       "      <td>2,384.45</td>\n",
       "      <td>3.24T</td>\n",
       "      <td>31.68</td>\n",
       "      <td>1.81</td>\n",
       "      <td>3.91</td>\n",
       "      <td>582.29</td>\n",
       "      <td>5.60%</td>\n",
       "      <td>135.530</td>\n",
       "      <td>1.41B</td>\n",
       "    </tr>\n",
       "    <tr>\n",
       "      <th>11</th>\n",
       "      <td>WIPRO.NS</td>\n",
       "      <td>Wipro Limited</td>\n",
       "      <td>388.35</td>\n",
       "      <td>2.03T</td>\n",
       "      <td>17.89</td>\n",
       "      <td>2.31</td>\n",
       "      <td>2.69</td>\n",
       "      <td>141.72</td>\n",
       "      <td>12.54%</td>\n",
       "      <td>22.340</td>\n",
       "      <td>5.48B</td>\n",
       "    </tr>\n",
       "    <tr>\n",
       "      <th>12</th>\n",
       "      <td>KOTAKBANK.NS</td>\n",
       "      <td>Kotak Mahindra Bank Limited</td>\n",
       "      <td>1,921.15</td>\n",
       "      <td>3.67T</td>\n",
       "      <td>25.80</td>\n",
       "      <td>7.35</td>\n",
       "      <td>3.54</td>\n",
       "      <td>560.29</td>\n",
       "      <td>28.09%</td>\n",
       "      <td>0.568</td>\n",
       "      <td>1.99B</td>\n",
       "    </tr>\n",
       "    <tr>\n",
       "      <th>13</th>\n",
       "      <td>BRITANNIA.NS</td>\n",
       "      <td>Britannia Industries Limited</td>\n",
       "      <td>4,511.05</td>\n",
       "      <td>1.03T</td>\n",
       "      <td>48.00</td>\n",
       "      <td>6.59</td>\n",
       "      <td>50.41</td>\n",
       "      <td>84.73</td>\n",
       "      <td>13.58%</td>\n",
       "      <td>146.550</td>\n",
       "      <td>240.87M</td>\n",
       "    </tr>\n",
       "    <tr>\n",
       "      <th>14</th>\n",
       "      <td>CIPLA.NS</td>\n",
       "      <td>Cipla Limited</td>\n",
       "      <td>917.70</td>\n",
       "      <td>741.09B</td>\n",
       "      <td>28.10</td>\n",
       "      <td>3.36</td>\n",
       "      <td>3.39</td>\n",
       "      <td>271.18</td>\n",
       "      <td>11.87%</td>\n",
       "      <td>4.820</td>\n",
       "      <td>807.16M</td>\n",
       "    </tr>\n",
       "    <tr>\n",
       "      <th>15</th>\n",
       "      <td>BHARTIARTL.NS</td>\n",
       "      <td>Bharti Airtel Limited</td>\n",
       "      <td>790.20</td>\n",
       "      <td>4.62T</td>\n",
       "      <td>59.92</td>\n",
       "      <td>3.28</td>\n",
       "      <td>6.23</td>\n",
       "      <td>124.50</td>\n",
       "      <td>5.43%</td>\n",
       "      <td>217.340</td>\n",
       "      <td>5.96B</td>\n",
       "    </tr>\n",
       "    <tr>\n",
       "      <th>16</th>\n",
       "      <td>COALINDIA.NS</td>\n",
       "      <td>Coal India Limited</td>\n",
       "      <td>236.10</td>\n",
       "      <td>1.40T</td>\n",
       "      <td>4.79</td>\n",
       "      <td>1.15</td>\n",
       "      <td>2.49</td>\n",
       "      <td>91.49</td>\n",
       "      <td>23.17%</td>\n",
       "      <td>6.850</td>\n",
       "      <td>6.16B</td>\n",
       "    </tr>\n",
       "    <tr>\n",
       "      <th>17</th>\n",
       "      <td>ULTRACEMCO.NS</td>\n",
       "      <td>UltraTech Cement Limited</td>\n",
       "      <td>7,456.60</td>\n",
       "      <td>2.21T</td>\n",
       "      <td>37.84</td>\n",
       "      <td>3.73</td>\n",
       "      <td>4.30</td>\n",
       "      <td>1,884.15</td>\n",
       "      <td>8.01%</td>\n",
       "      <td>20.330</td>\n",
       "      <td>288.3M</td>\n",
       "    </tr>\n",
       "    <tr>\n",
       "      <th>18</th>\n",
       "      <td>BAJAJ-AUTO.NS</td>\n",
       "      <td>Bajaj Auto Limited</td>\n",
       "      <td>4,498.00</td>\n",
       "      <td>1.23T</td>\n",
       "      <td>20.44</td>\n",
       "      <td>3.50</td>\n",
       "      <td>4.18</td>\n",
       "      <td>1,038.57</td>\n",
       "      <td>16.11%</td>\n",
       "      <td>0.000</td>\n",
       "      <td>282.96M</td>\n",
       "    </tr>\n",
       "    <tr>\n",
       "      <th>19</th>\n",
       "      <td>TATACONSUM.NS</td>\n",
       "      <td>Tata Consumer Products Limited</td>\n",
       "      <td>779.60</td>\n",
       "      <td>693.36B</td>\n",
       "      <td>57.35</td>\n",
       "      <td>5.01</td>\n",
       "      <td>4.26</td>\n",
       "      <td>175.14</td>\n",
       "      <td>8.73%</td>\n",
       "      <td>9.340</td>\n",
       "      <td>929M</td>\n",
       "    </tr>\n",
       "    <tr>\n",
       "      <th>20</th>\n",
       "      <td>NTPC.NS</td>\n",
       "      <td>NTPC Limited</td>\n",
       "      <td>175.60</td>\n",
       "      <td>1.71T</td>\n",
       "      <td>9.62</td>\n",
       "      <td>1.01</td>\n",
       "      <td>1.20</td>\n",
       "      <td>145.86</td>\n",
       "      <td>10.19%</td>\n",
       "      <td>153.480</td>\n",
       "      <td>9.7B</td>\n",
       "    </tr>\n",
       "    <tr>\n",
       "      <th>21</th>\n",
       "      <td>TATASTEEL.NS</td>\n",
       "      <td>Tata Steel Limited</td>\n",
       "      <td>110.30</td>\n",
       "      <td>1.32T</td>\n",
       "      <td>4.55</td>\n",
       "      <td>0.51</td>\n",
       "      <td>1.21</td>\n",
       "      <td>88.02</td>\n",
       "      <td>6.73%</td>\n",
       "      <td>79.540</td>\n",
       "      <td>12.22B</td>\n",
       "    </tr>\n",
       "    <tr>\n",
       "      <th>22</th>\n",
       "      <td>MARUTI.NS</td>\n",
       "      <td>Maruti Suzuki India Limited</td>\n",
       "      <td>8,776.85</td>\n",
       "      <td>2.57T</td>\n",
       "      <td>31.30</td>\n",
       "      <td>2.28</td>\n",
       "      <td>4.16</td>\n",
       "      <td>2,045.44</td>\n",
       "      <td>6.98%</td>\n",
       "      <td>2.020</td>\n",
       "      <td>302.08M</td>\n",
       "    </tr>\n",
       "    <tr>\n",
       "      <th>23</th>\n",
       "      <td>HINDALCO.NS</td>\n",
       "      <td>Hindalco Industries Limited</td>\n",
       "      <td>446.15</td>\n",
       "      <td>931.73B</td>\n",
       "      <td>8.05</td>\n",
       "      <td>0.42</td>\n",
       "      <td>1.03</td>\n",
       "      <td>408.88</td>\n",
       "      <td>5.17%</td>\n",
       "      <td>74.440</td>\n",
       "      <td>2.23B</td>\n",
       "    </tr>\n",
       "    <tr>\n",
       "      <th>24</th>\n",
       "      <td>HEROMOTOCO.NS</td>\n",
       "      <td>Hero MotoCorp Limited</td>\n",
       "      <td>2,495.90</td>\n",
       "      <td>495.06B</td>\n",
       "      <td>18.94</td>\n",
       "      <td>1.52</td>\n",
       "      <td>3.02</td>\n",
       "      <td>821.40</td>\n",
       "      <td>7.87%</td>\n",
       "      <td>4.390</td>\n",
       "      <td>199.84M</td>\n",
       "    </tr>\n",
       "    <tr>\n",
       "      <th>25</th>\n",
       "      <td>HDFCLIFE.NS</td>\n",
       "      <td>HDFC Life Insurance Company Limited</td>\n",
       "      <td>544.50</td>\n",
       "      <td>1.14T</td>\n",
       "      <td>82.93</td>\n",
       "      <td>1.62</td>\n",
       "      <td>8.79</td>\n",
       "      <td>61.02</td>\n",
       "      <td>1.93%</td>\n",
       "      <td>7.310</td>\n",
       "      <td>2.15B</td>\n",
       "    </tr>\n",
       "    <tr>\n",
       "      <th>26</th>\n",
       "      <td>TECHM.NS</td>\n",
       "      <td>Tech Mahindra Limited</td>\n",
       "      <td>1,053.45</td>\n",
       "      <td>1.08T</td>\n",
       "      <td>18.85</td>\n",
       "      <td>1.90</td>\n",
       "      <td>4.04</td>\n",
       "      <td>316.55</td>\n",
       "      <td>9.07%</td>\n",
       "      <td>9.650</td>\n",
       "      <td>974.16M</td>\n",
       "    </tr>\n",
       "    <tr>\n",
       "      <th>27</th>\n",
       "      <td>ONGC.NS</td>\n",
       "      <td>Oil and Natural Gas Corporation Limited</td>\n",
       "      <td>164.25</td>\n",
       "      <td>1.98T</td>\n",
       "      <td>4.30</td>\n",
       "      <td>0.39</td>\n",
       "      <td>0.71</td>\n",
       "      <td>221.80</td>\n",
       "      <td>6.64%</td>\n",
       "      <td>52.710</td>\n",
       "      <td>12.58B</td>\n",
       "    </tr>\n",
       "  </tbody>\n",
       "</table>\n",
       "</div>"
      ],
      "text/plain": [
       "           Symbol                              Company_name Stock_price  \\\n",
       "0          TCS.NS        Tata Consultancy Services Limited     3,219.40   \n",
       "1    NESTLEIND.NS                     Nestlé India Limited    21,745.85   \n",
       "2   INDUSINDBK.NS                    IndusInd Bank Limited     1,150.90   \n",
       "3          ITC.NS                              ITC Limited       424.45   \n",
       "4     ADANIENT.NS                Adani Enterprises Limited     1,919.85   \n",
       "5   BAJAJFINSV.NS                       Bajaj Finserv Ltd.     1,349.05   \n",
       "6    ICICIBANK.NS                       ICICI Bank Limited       922.10   \n",
       "7   BAJFINANCE.NS                    Bajaj Finance Limited     6,249.15   \n",
       "8   APOLLOHOSP.NS      Apollo Hospitals Enterprise Limited     4,490.80   \n",
       "9        TITAN.NS                    Titan Company Limited     2,663.85   \n",
       "10          LT.NS                  Larsen & Toubro Limited     2,384.45   \n",
       "11       WIPRO.NS                            Wipro Limited       388.35   \n",
       "12   KOTAKBANK.NS              Kotak Mahindra Bank Limited     1,921.15   \n",
       "13   BRITANNIA.NS             Britannia Industries Limited     4,511.05   \n",
       "14       CIPLA.NS                            Cipla Limited       917.70   \n",
       "15  BHARTIARTL.NS                    Bharti Airtel Limited       790.20   \n",
       "16   COALINDIA.NS                       Coal India Limited       236.10   \n",
       "17  ULTRACEMCO.NS                 UltraTech Cement Limited     7,456.60   \n",
       "18  BAJAJ-AUTO.NS                       Bajaj Auto Limited     4,498.00   \n",
       "19  TATACONSUM.NS           Tata Consumer Products Limited       779.60   \n",
       "20        NTPC.NS                             NTPC Limited       175.60   \n",
       "21   TATASTEEL.NS                       Tata Steel Limited       110.30   \n",
       "22      MARUTI.NS              Maruti Suzuki India Limited     8,776.85   \n",
       "23    HINDALCO.NS              Hindalco Industries Limited       446.15   \n",
       "24  HEROMOTOCO.NS                    Hero MotoCorp Limited     2,495.90   \n",
       "25    HDFCLIFE.NS      HDFC Life Insurance Company Limited       544.50   \n",
       "26       TECHM.NS                    Tech Mahindra Limited     1,053.45   \n",
       "27        ONGC.NS  Oil and Natural Gas Corporation Limited       164.25   \n",
       "\n",
       "   Market_cap  Trailing_PE  Price_sales_ratio  Price_book_ratio      BVPS  \\\n",
       "0      11.86T        28.14               5.26             13.12    247.06   \n",
       "1       1.99T        78.55              11.30             81.02    255.06   \n",
       "2     855.04B        11.49               3.32              1.55    709.01   \n",
       "3       4.89T        26.75               7.04              7.45     52.98   \n",
       "4       2.11T       101.44               1.59              6.67    277.23   \n",
       "5       2.17T        35.47               2.72              5.01    291.20   \n",
       "6       6.38T        19.09               4.79              2.97    307.13   \n",
       "7       3.54T        33.02              14.09              7.38    899.66   \n",
       "8     621.18B        73.98               4.11             10.37    416.88   \n",
       "9       2.30T        75.82               6.16             22.47    115.18   \n",
       "10      3.24T        31.68               1.81              3.91    582.29   \n",
       "11      2.03T        17.89               2.31              2.69    141.72   \n",
       "12      3.67T        25.80               7.35              3.54    560.29   \n",
       "13      1.03T        48.00               6.59             50.41     84.73   \n",
       "14    741.09B        28.10               3.36              3.39    271.18   \n",
       "15      4.62T        59.92               3.28              6.23    124.50   \n",
       "16      1.40T         4.79               1.15              2.49     91.49   \n",
       "17      2.21T        37.84               3.73              4.30  1,884.15   \n",
       "18      1.23T        20.44               3.50              4.18  1,038.57   \n",
       "19    693.36B        57.35               5.01              4.26    175.14   \n",
       "20      1.71T         9.62               1.01              1.20    145.86   \n",
       "21      1.32T         4.55               0.51              1.21     88.02   \n",
       "22      2.57T        31.30               2.28              4.16  2,045.44   \n",
       "23    931.73B         8.05               0.42              1.03    408.88   \n",
       "24    495.06B        18.94               1.52              3.02    821.40   \n",
       "25      1.14T        82.93               1.62              8.79     61.02   \n",
       "26      1.08T        18.85               1.90              4.04    316.55   \n",
       "27      1.98T         4.30               0.39              0.71    221.80   \n",
       "\n",
       "   Profits  D_E_ratio outstanding_shares  \n",
       "0   18.69%      8.430              3.66B  \n",
       "1   14.34%     11.120             96.42M  \n",
       "2   34.98%      0.890            775.89M  \n",
       "3   26.07%      0.380             12.43B  \n",
       "4    1.58%    113.860              1.14B  \n",
       "5    7.96%    215.980              1.59B  \n",
       "6   26.45%      0.881              6.98B  \n",
       "7   44.85%    316.390            605.92M  \n",
       "8    4.82%     63.540            143.78M  \n",
       "9    7.97%     74.650            887.79M  \n",
       "10   5.60%    135.530              1.41B  \n",
       "11  12.54%     22.340              5.48B  \n",
       "12  28.09%      0.568              1.99B  \n",
       "13  13.58%    146.550            240.87M  \n",
       "14  11.87%      4.820            807.16M  \n",
       "15   5.43%    217.340              5.96B  \n",
       "16  23.17%      6.850              6.16B  \n",
       "17   8.01%     20.330             288.3M  \n",
       "18  16.11%      0.000            282.96M  \n",
       "19   8.73%      9.340               929M  \n",
       "20  10.19%    153.480               9.7B  \n",
       "21   6.73%     79.540             12.22B  \n",
       "22   6.98%      2.020            302.08M  \n",
       "23   5.17%     74.440              2.23B  \n",
       "24   7.87%      4.390            199.84M  \n",
       "25   1.93%      7.310              2.15B  \n",
       "26   9.07%      9.650            974.16M  \n",
       "27   6.64%     52.710             12.58B  "
      ]
     },
     "execution_count": 15,
     "metadata": {},
     "output_type": "execute_result"
    }
   ],
   "source": [
    "df.reset_index(drop=True)"
   ]
  },
  {
   "cell_type": "code",
   "execution_count": 16,
   "id": "4b36a11a",
   "metadata": {},
   "outputs": [
    {
     "data": {
      "text/plain": [
       "Index(['Symbol', 'Company_name', 'Stock_price', 'Market_cap', 'Trailing_PE',\n",
       "       'Price_sales_ratio', 'Price_book_ratio', 'BVPS', 'Profits', 'D_E_ratio',\n",
       "       'outstanding_shares'],\n",
       "      dtype='object')"
      ]
     },
     "execution_count": 16,
     "metadata": {},
     "output_type": "execute_result"
    }
   ],
   "source": [
    "df.columns "
   ]
  },
  {
   "cell_type": "markdown",
   "id": "02765baf",
   "metadata": {},
   "source": [
    "* Our Data may appear ready but there are few Data Cleaning steps necessary.Since all data are numeric we will convert all columns to float\n",
    "* Stock_price and BVPS have ',' where values are greater than 999.Remove commas\n",
    "* The columns Market Cap and Outstanding Shares are given in Billions,Trillions and Millions \n",
    "* Convert all Market Cap values to Trillions and onvert all outstanding Shares to billions and remove symbols \n"
   ]
  },
  {
   "cell_type": "code",
   "execution_count": 17,
   "id": "c1470bba",
   "metadata": {},
   "outputs": [],
   "source": [
    "#Remove commas\n",
    "df['Stock_price'] = df['Stock_price'].apply(lambda x : x.replace(',',''))\n",
    "df['BVPS'] = df['BVPS'].apply(lambda x : x.replace(',',''))"
   ]
  },
  {
   "cell_type": "code",
   "execution_count": 18,
   "id": "edd09483",
   "metadata": {},
   "outputs": [],
   "source": [
    "# Convert all Market Cap values to Trillions \n",
    "df['Market_cap'] = df['Market_cap'].apply(lambda x : x.replace('T',''))\n",
    "df['Market_cap'] = df['Market_cap'].apply(lambda x : x.replace('B',''))\n",
    "df['Market_cap'] = df['Market_cap'].astype('float64')\n",
    "df['Market_cap'] = df['Market_cap'].apply(lambda x : x/1000 if x > 20 else x)"
   ]
  },
  {
   "cell_type": "code",
   "execution_count": 19,
   "id": "7d23d915",
   "metadata": {},
   "outputs": [],
   "source": [
    "# Convert all outstanding Shares to billions \n",
    "df['outstanding_shares'] = df['outstanding_shares'].apply(lambda x : x.replace('B',''))\n",
    "df['outstanding_shares'] = df['outstanding_shares'].apply(lambda x : x.replace('M',''))\n",
    "df['outstanding_shares'] = df['outstanding_shares'].astype('float64')\n",
    "df['outstanding_shares'] = df['outstanding_shares'].apply(lambda x : x/1000 if x > 50 else x)"
   ]
  },
  {
   "cell_type": "code",
   "execution_count": 20,
   "id": "bd013a94",
   "metadata": {},
   "outputs": [],
   "source": [
    "#remove symbols \n",
    "df['Profits'] = df['Profits'].apply(lambda x: x.replace('%',''))"
   ]
  },
  {
   "cell_type": "code",
   "execution_count": 21,
   "id": "865cfb7b",
   "metadata": {},
   "outputs": [],
   "source": [
    "#convert all columns to float\n",
    "num_cols = ['Stock_price','Trailing_PE','Price_sales_ratio','Price_book_ratio','BVPS','Profits','D_E_ratio']\n",
    "df[num_cols] = df[num_cols].astype('float64')"
   ]
  },
  {
   "cell_type": "code",
   "execution_count": 22,
   "id": "586e8343",
   "metadata": {},
   "outputs": [
    {
     "data": {
      "text/html": [
       "<div>\n",
       "<style scoped>\n",
       "    .dataframe tbody tr th:only-of-type {\n",
       "        vertical-align: middle;\n",
       "    }\n",
       "\n",
       "    .dataframe tbody tr th {\n",
       "        vertical-align: top;\n",
       "    }\n",
       "\n",
       "    .dataframe thead th {\n",
       "        text-align: right;\n",
       "    }\n",
       "</style>\n",
       "<table border=\"1\" class=\"dataframe\">\n",
       "  <thead>\n",
       "    <tr style=\"text-align: right;\">\n",
       "      <th></th>\n",
       "      <th>Symbol</th>\n",
       "      <th>Company_name</th>\n",
       "      <th>Stock_price</th>\n",
       "      <th>Market_cap</th>\n",
       "      <th>Trailing_PE</th>\n",
       "      <th>Price_sales_ratio</th>\n",
       "      <th>Price_book_ratio</th>\n",
       "      <th>BVPS</th>\n",
       "      <th>Profits</th>\n",
       "      <th>D_E_ratio</th>\n",
       "      <th>outstanding_shares</th>\n",
       "    </tr>\n",
       "  </thead>\n",
       "  <tbody>\n",
       "    <tr>\n",
       "      <th>0</th>\n",
       "      <td>TCS.NS</td>\n",
       "      <td>Tata Consultancy Services Limited</td>\n",
       "      <td>3219.40</td>\n",
       "      <td>11.86000</td>\n",
       "      <td>28.14</td>\n",
       "      <td>5.26</td>\n",
       "      <td>13.12</td>\n",
       "      <td>247.06</td>\n",
       "      <td>18.69</td>\n",
       "      <td>8.43</td>\n",
       "      <td>3.66000</td>\n",
       "    </tr>\n",
       "    <tr>\n",
       "      <th>1</th>\n",
       "      <td>NESTLEIND.NS</td>\n",
       "      <td>Nestlé India Limited</td>\n",
       "      <td>21745.85</td>\n",
       "      <td>1.99000</td>\n",
       "      <td>78.55</td>\n",
       "      <td>11.30</td>\n",
       "      <td>81.02</td>\n",
       "      <td>255.06</td>\n",
       "      <td>14.34</td>\n",
       "      <td>11.12</td>\n",
       "      <td>0.09642</td>\n",
       "    </tr>\n",
       "    <tr>\n",
       "      <th>2</th>\n",
       "      <td>INDUSINDBK.NS</td>\n",
       "      <td>IndusInd Bank Limited</td>\n",
       "      <td>1150.90</td>\n",
       "      <td>0.85504</td>\n",
       "      <td>11.49</td>\n",
       "      <td>3.32</td>\n",
       "      <td>1.55</td>\n",
       "      <td>709.01</td>\n",
       "      <td>34.98</td>\n",
       "      <td>0.89</td>\n",
       "      <td>0.77589</td>\n",
       "    </tr>\n",
       "    <tr>\n",
       "      <th>3</th>\n",
       "      <td>ITC.NS</td>\n",
       "      <td>ITC Limited</td>\n",
       "      <td>424.45</td>\n",
       "      <td>4.89000</td>\n",
       "      <td>26.75</td>\n",
       "      <td>7.04</td>\n",
       "      <td>7.45</td>\n",
       "      <td>52.98</td>\n",
       "      <td>26.07</td>\n",
       "      <td>0.38</td>\n",
       "      <td>12.43000</td>\n",
       "    </tr>\n",
       "    <tr>\n",
       "      <th>4</th>\n",
       "      <td>ADANIENT.NS</td>\n",
       "      <td>Adani Enterprises Limited</td>\n",
       "      <td>1919.85</td>\n",
       "      <td>2.11000</td>\n",
       "      <td>101.44</td>\n",
       "      <td>1.59</td>\n",
       "      <td>6.67</td>\n",
       "      <td>277.23</td>\n",
       "      <td>1.58</td>\n",
       "      <td>113.86</td>\n",
       "      <td>1.14000</td>\n",
       "    </tr>\n",
       "  </tbody>\n",
       "</table>\n",
       "</div>"
      ],
      "text/plain": [
       "          Symbol                        Company_name  Stock_price  Market_cap  \\\n",
       "0         TCS.NS  Tata Consultancy Services Limited       3219.40    11.86000   \n",
       "1   NESTLEIND.NS               Nestlé India Limited      21745.85     1.99000   \n",
       "2  INDUSINDBK.NS              IndusInd Bank Limited       1150.90     0.85504   \n",
       "3         ITC.NS                        ITC Limited        424.45     4.89000   \n",
       "4    ADANIENT.NS          Adani Enterprises Limited       1919.85     2.11000   \n",
       "\n",
       "   Trailing_PE  Price_sales_ratio  Price_book_ratio    BVPS  Profits  \\\n",
       "0        28.14               5.26             13.12  247.06    18.69   \n",
       "1        78.55              11.30             81.02  255.06    14.34   \n",
       "2        11.49               3.32              1.55  709.01    34.98   \n",
       "3        26.75               7.04              7.45   52.98    26.07   \n",
       "4       101.44               1.59              6.67  277.23     1.58   \n",
       "\n",
       "   D_E_ratio  outstanding_shares  \n",
       "0       8.43             3.66000  \n",
       "1      11.12             0.09642  \n",
       "2       0.89             0.77589  \n",
       "3       0.38            12.43000  \n",
       "4     113.86             1.14000  "
      ]
     },
     "execution_count": 22,
     "metadata": {},
     "output_type": "execute_result"
    }
   ],
   "source": [
    "df.head()"
   ]
  },
  {
   "cell_type": "code",
   "execution_count": 23,
   "id": "22a36be2",
   "metadata": {},
   "outputs": [],
   "source": [
    "#import numpy as np\n",
    "#df['log_SP'] = df['Stock_price'].apply(lambda x : np.log(x))\n",
    "#ax = sns.regplot(x = df.Profits,y=df.log_SP)\n",
    "#ax.set(xlabel = 'Market cap',ylabel ='Stock Price in Rupees')\n",
    "#plt.show()"
   ]
  },
  {
   "cell_type": "code",
   "execution_count": 24,
   "id": "f5b7f61d",
   "metadata": {},
   "outputs": [],
   "source": [
    "#ax = sns.regplot(x = df.Price_sales_ratio,y=df.Stock_price)\n",
    "#ax.set(xlabel = 'Market cap',ylabel ='Stock Price in Rupees')\n",
    "#plt.show()"
   ]
  },
  {
   "cell_type": "markdown",
   "id": "37763c1f",
   "metadata": {},
   "source": [
    "### 3) Feature Engineering "
   ]
  },
  {
   "cell_type": "markdown",
   "id": "d5be9b18",
   "metadata": {},
   "source": [
    "Use Mutual Information to find features that have the most corelation with the target. This is a small dataset .hence I don't expect there to be a profound corelation between features and the target "
   ]
  },
  {
   "cell_type": "code",
   "execution_count": 26,
   "id": "dc557c98",
   "metadata": {},
   "outputs": [],
   "source": [
    "from sklearn.feature_selection import mutual_info_regression \n",
    "from sklearn.model_selection import train_test_split\n",
    "features = ['Trailing_PE','Price_sales_ratio','Price_book_ratio','BVPS','Profits','D_E_ratio','outstanding_shares','Market_cap']\n",
    "X = df[features]\n",
    "y = df.Stock_price\n",
    "X_train, X_test, y_train, y_test = train_test_split(X,y,test_size = 0.3,random_state=1)\n"
   ]
  },
  {
   "cell_type": "code",
   "execution_count": 27,
   "id": "d3819ad5",
   "metadata": {},
   "outputs": [],
   "source": [
    "def make_mi_scores(X,y,discrete):\n",
    "    mi_score = mutual_info_regression(X,y,discrete_features=discrete)\n",
    "    mi_scores = pd.Series(mi_score,name=\"MI_Scores\",index=X.columns)\n",
    "    return mi_scores \n",
    "scores = make_mi_scores(X_train,y_train,False)"
   ]
  },
  {
   "cell_type": "code",
   "execution_count": 28,
   "id": "dc20048a",
   "metadata": {},
   "outputs": [
    {
     "data": {
      "image/png": "[encoded data removed]",
      "text/plain": [
       "<Figure size 640x480 with 1 Axes>"
      ]
     },
     "metadata": {},
     "output_type": "display_data"
    }
   ],
   "source": [
    "def make_mi_plots(scores):\n",
    "    scores = scores.sort_values(ascending = True)\n",
    "    width = np.arange(len(scores))\n",
    "    ticks = list(scores.index)\n",
    "    plt.barh(width,scores)\n",
    "    plt.yticks (width,ticks)\n",
    "    plt.title('Mutual_info_regression')\n",
    "make_mi_plots(scores)"
   ]
  },
  {
   "cell_type": "markdown",
   "id": "f47509ae",
   "metadata": {},
   "source": [
    "* Outstanding shares has the most interaction with the target,which was unexpected. P/B ,P/S ,P/E and BVPS are important ratios which indicates the financial condition of a company. \n",
    "* **P/B ratio**: Its a measure of a company's stock being overvalued or undervalued by comparing the stock price to its BVPS. \n",
    "* **P/E ratio** Determines the market value of stock compared its earnings. A high p/e value indiacates that the stock is expensive relative to earnings. \n",
    "* **BVPS** : BVPS is common equity divided by outstanding shares \n",
    "\n",
    "\n"
   ]
  },
  {
   "cell_type": "markdown",
   "id": "cd678ac5",
   "metadata": {},
   "source": [
    "### 4 : Model"
   ]
  },
  {
   "cell_type": "markdown",
   "id": "ae5d5dfc",
   "metadata": {},
   "source": [
    "Random Forest Regressor from sklearn library will be used. The main focus of this project was to scrap the data. I believe the model from such small dataset won't be able to capture intricacies of the data. Since the dataset is small we can use cross validation to evaluate our model "
   ]
  },
  {
   "cell_type": "code",
   "execution_count": 29,
   "id": "1974dd27",
   "metadata": {},
   "outputs": [
    {
     "name": "stdout",
     "output_type": "stream",
     "text": [
      "{50: 1799.5245666666665, 100: 1879.600066666666, 150: 1870.1576, 200: 1853.1516250000004, 250: 1842.7462833333343, 300: 1866.2950611111123, 350: 1870.9729785714294, 400: 1851.2558479166673}\n"
     ]
    }
   ],
   "source": [
    "# A function to find the optimum n_estimators \n",
    "from sklearn.ensemble import RandomForestRegressor\n",
    "from sklearn.model_selection import cross_val_score\n",
    "def n_estimator(n_est):\n",
    "    model = RandomForestRegressor(n_estimators = n_est,random_state=1)\n",
    "    cv_scores = -1 * cross_val_score(model,X_train,y_train,cv=5,scoring='neg_mean_absolute_error')\n",
    "    return cv_scores.mean()\n",
    "results = {}\n",
    "for i in range(1,9):\n",
    "    results[50*i] = n_estimator(50*i)\n",
    "print(results)"
   ]
  },
  {
   "cell_type": "code",
   "execution_count": 30,
   "id": "49d4a7b3",
   "metadata": {},
   "outputs": [
    {
     "name": "stdout",
     "output_type": "stream",
     "text": [
      "1851.2558479166673\n"
     ]
    }
   ],
   "source": [
    "#Model our data with n_estimators as 400 and use cross validation to calculate the error\n",
    "def modeling (X,y):\n",
    "    model = RandomForestRegressor(n_estimators = 400,random_state = 1)\n",
    "    cv_scores = -1 * cross_val_score(model,X,y,cv=5,scoring='neg_mean_absolute_error')\n",
    "    return cv_scores.mean() \n",
    "print(modeling(X_train,y_train))"
   ]
  },
  {
   "cell_type": "markdown",
   "id": "415b7beb",
   "metadata": {},
   "source": [
    "The error is huge and our model is unreliable to make accurate predictions of stock price. This was expected since the sample size was less than 30 hence our model was severly underfitted .Let's take features who's MI value was greater than 0 "
   ]
  },
  {
   "cell_type": "code",
   "execution_count": 31,
   "id": "fe93f979",
   "metadata": {},
   "outputs": [],
   "source": [
    "#Take only useful features from Mutual information \n",
    "X_train_new = X_train[['outstanding_shares','Price_sales_ratio','Price_book_ratio','BVPS','Trailing_PE']]\n",
    "X_valid_new = X_test[['outstanding_shares','Price_sales_ratio','Price_book_ratio','BVPS','Trailing_PE']]"
   ]
  },
  {
   "cell_type": "code",
   "execution_count": 32,
   "id": "9351190d",
   "metadata": {},
   "outputs": [
    {
     "name": "stdout",
     "output_type": "stream",
     "text": [
      "1864.7281604166678\n"
     ]
    }
   ],
   "source": [
    "print(modeling(X_train_new,y_train))"
   ]
  },
  {
   "cell_type": "markdown",
   "id": "c8cc9b11",
   "metadata": {},
   "source": [
    "Let's plot expected value vs True value to see if they are corelated "
   ]
  },
  {
   "cell_type": "code",
   "execution_count": null,
   "id": "c74a833b",
   "metadata": {},
   "outputs": [],
   "source": [
    "#X_train_new = X_train[['outstanding_shares','Price_sales_ratio','Price_book_ratio','BVPS','Trailing_PE']]"
   ]
  },
  {
   "cell_type": "code",
   "execution_count": 34,
   "id": "7236b585",
   "metadata": {},
   "outputs": [
    {
     "data": {
      "image/png": "[encoded data removed]",
      "text/plain": [
       "<Figure size 500x500 with 1 Axes>"
      ]
     },
     "metadata": {},
     "output_type": "display_data"
    }
   ],
   "source": [
    "#Fit the model to our dataset to predict values \n",
    "model = RandomForestRegressor(random_state=1,n_estimators=400)\n",
    "model.fit(X_train_new,y_train)\n",
    "val_predict = model.predict(X_valid_new)\n",
    "#setup plot variables \n",
    "plt.figure(figsize=(5,5))\n",
    "plt.scatter(y_test, val_predict, c='crimson')\n",
    "plt.yscale('log')\n",
    "plt.xscale('log')\n",
    "#plot our results \n",
    "p1 = max(max(val_predict), max(y_test))\n",
    "p2 = min(min(val_predict), min(y_test))\n",
    "plt.plot([p1, p2], [p1, p2], 'b-')\n",
    "plt.xlabel('True Values', fontsize=15)\n",
    "plt.ylabel('Predictions', fontsize=15)\n",
    "plt.axis('equal')\n",
    "plt.show()"
   ]
  },
  {
   "cell_type": "markdown",
   "id": "e38714d0",
   "metadata": {},
   "source": [
    "We can see the predicted values are nowhere near the true values but, they have slight corelation with each other. This means that our model ,while can't accurately predict the stock price but can definitely indicate the price range of that stock. "
   ]
  },
  {
   "cell_type": "markdown",
   "id": "633120c0",
   "metadata": {},
   "source": [
    "### 6 : Findings "
   ]
  },
  {
   "cell_type": "markdown",
   "id": "9d543be7",
   "metadata": {},
   "source": [
    "* While the scraped data was too limited to have built a machine learning model ,we got a few fetures on which the stock price of a company depends on.\n",
    "* We already knew that P/E ratio, P/B ratio and P/S ratio would corelate with the stock price since these ratios are indicative of the financial health of a company \n",
    "* This analysis also shows that the number of shares a company has listed on the index, has a decent corelation with the stock price \n",
    "* The model,though extremely inaccurate ,can indicate if a company's stock price will be high or low \n",
    "* The main purpose of this project was to scrap important indicators and ratios from the Yahoo finance website.\n",
    "* THe nifty 50 is a stock market index on which any Indian stock is compared with .\n",
    "* The trends these stock follow is extremely important since they are used as a benchmark in the market \n",
    "* I am aware that the model in this project would have been better if it had been based on about 100 -200 companies "
   ]
  }
 ],
 "metadata": {
  "kernelspec": {
   "display_name": "Python 3 (ipykernel)",
   "language": "python",
   "name": "python3"
  },
  "language_info": {
   "codemirror_mode": {
    "name": "ipython",
    "version": 3
   },
   "file_extension": ".py",
   "mimetype": "text/x-python",
   "name": "python",
   "nbconvert_exporter": "python",
   "pygments_lexer": "ipython3",
   "version": "3.10.11"
  }
 },
 "nbformat": 4,
 "nbformat_minor": 5
}
